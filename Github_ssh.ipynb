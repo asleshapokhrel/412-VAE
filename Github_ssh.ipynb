{
  "nbformat": 4,
  "nbformat_minor": 0,
  "metadata": {
    "colab": {
      "name": "Github-ssh.ipynb",
      "provenance": [],
      "collapsed_sections": []
    },
    "kernelspec": {
      "name": "python3",
      "display_name": "Python 3"
    }
  },
  "cells": [
    {
      "cell_type": "code",
      "metadata": {
        "colab": {
          "base_uri": "https://localhost:8080/"
        },
        "id": "7CoHGfyJm7YH",
        "outputId": "4795bd02-e0f4-4710-f3fe-cc7d0b5e52bd"
      },
      "source": [
        "from google.colab import drive\n",
        "drive.mount('/content/drive')"
      ],
      "execution_count": null,
      "outputs": [
        {
          "output_type": "stream",
          "text": [
            "Mounted at /content/drive\n"
          ],
          "name": "stdout"
        }
      ]
    },
    {
      "cell_type": "code",
      "metadata": {
        "colab": {
          "base_uri": "https://localhost:8080/"
        },
        "id": "N3sNL-ScumBg",
        "outputId": "139fde7c-9eaf-4b6a-96e7-4b7ae7fdfe95"
      },
      "source": [
        "cd \"/content/drive/MyDrive/412-VAE/412-VAE\" "
      ],
      "execution_count": null,
      "outputs": [
        {
          "output_type": "stream",
          "text": [
            "/content/drive/.shortcut-targets-by-id/1s379kDlnaKlfN_Le833iyz4Jx6uz3Tik/412-VAE/412-VAE\n"
          ],
          "name": "stdout"
        }
      ]
    },
    {
      "cell_type": "code",
      "metadata": {
        "colab": {
          "base_uri": "https://localhost:8080/"
        },
        "id": "wB1Iwhd8nNVY",
        "outputId": "6c69e2b8-4757-458a-9a69-11c1401478f6"
      },
      "source": [
        "!ssh-keygen -t rsa -b 4096"
      ],
      "execution_count": null,
      "outputs": [
        {
          "output_type": "stream",
          "text": [
            "Generating public/private rsa key pair.\n",
            "Enter file in which to save the key (/root/.ssh/id_rsa): \n",
            "Enter passphrase (empty for no passphrase): \n",
            "Enter same passphrase again: \n",
            "Your identification has been saved in /root/.ssh/id_rsa.\n",
            "Your public key has been saved in /root/.ssh/id_rsa.pub.\n",
            "The key fingerprint is:\n",
            "SHA256:rgld1KskZuVxPN8mCS0kUIdiRZDv0lb4tJbdABRkntI root@972612ceddb8\n",
            "The key's randomart image is:\n",
            "+---[RSA 4096]----+\n",
            "|      oB=+B.     |\n",
            "|      + .X.o     |\n",
            "|     . o=.E..    |\n",
            "|       +o+o*.o   |\n",
            "|      +oS+.++oo  |\n",
            "|     +.=+.= .o.  |\n",
            "|    . .oo.       |\n",
            "|     . o         |\n",
            "|      o          |\n",
            "+----[SHA256]-----+\n"
          ],
          "name": "stdout"
        }
      ]
    },
    {
      "cell_type": "code",
      "metadata": {
        "colab": {
          "base_uri": "https://localhost:8080/"
        },
        "id": "_hV19T3utQwI",
        "outputId": "f05969f8-a459-41c6-df72-f1209fabd7af"
      },
      "source": [
        "!ssh-keyscan -t rsa github.com >> ~/.ssh/known_hosts"
      ],
      "execution_count": null,
      "outputs": [
        {
          "output_type": "stream",
          "text": [
            "# github.com:22 SSH-2.0-babeld-6006113c\n"
          ],
          "name": "stdout"
        }
      ]
    },
    {
      "cell_type": "code",
      "metadata": {
        "colab": {
          "base_uri": "https://localhost:8080/"
        },
        "id": "uZ3XSO6TtfR3",
        "outputId": "28535379-099e-43ac-fd58-e4d83df4e825"
      },
      "source": [
        "!cat /root/.ssh/id_rsa.pub"
      ],
      "execution_count": null,
      "outputs": [
        {
          "output_type": "stream",
          "text": [
            "ssh-rsa AAAAB3NzaC1yc2EAAAADAQABAAACAQC4z1rjhXZp9Ir5ZALCu8en2qJDp4LWAFIawVjDkXsoZa+fCq+hjFq4f5wKSh1NAo4VRCgOx2EeH11XRPj3BrU9aUunh2fDJkAgmTJjvcVzV9eNFmE+xqoUAE/dWRXBYgpOvji1NclbtDpVk5SgkJq4H8gzqqTeGAALSbXjLwmCJRHALXB1a2nEb7lSC7DMtkSYSIoySoBDitu9zq+aEuNYNfYlUqFLs4/GnV1wz+dxtKEdgNSi7E8mR+X754w+b82GIoFaPLQC+/bPpbiayPYMHvypmULT0o/kjIl3EBmlDIMyQr/TBt7TLBLshiz+3fWaRBwEXxLCMNFA/pWWThSqtneq/7vIsUbAo+Gp+5e0jk7ff7L9wJbPsZhQFLVsfKiWcI6lknud5Xbri759/fX/zVIzp1Koo5D2tAKJ92hP6Idgn9VLE7i3vyOb7CE2ZSKijLIVjwta4ovW7Evdz88A+I80ztC6TExPLJkIFoPYmH4Xcia9DDUv/vUM6LoTE6dw/ORjQVSme/rg9AUIVh9IzrSVIoZUkZVl4Msvd4+v1nXca/zAO4EXBtqdz9Ul36K1G8C3hOIKyTO0v05PG/8+W5tJUq0PKwieR8mOP91KSFm6pwVg5Mt33iI7uoF9e7JigQ72OhODr2NHD0t4ItFjBInTYNhoOlYfeSXCaNEAWw== root@972612ceddb8\n"
          ],
          "name": "stdout"
        }
      ]
    },
    {
      "cell_type": "code",
      "metadata": {
        "colab": {
          "base_uri": "https://localhost:8080/"
        },
        "id": "d2Ou_fQ0t6kw",
        "outputId": "a08da95d-a328-4772-9248-275cf750d387"
      },
      "source": [
        "!ssh -T git@github.com"
      ],
      "execution_count": null,
      "outputs": [
        {
          "output_type": "stream",
          "text": [
            "Warning: Permanently added the RSA host key for IP address '140.82.113.4' to the list of known hosts.\r\n",
            "git@github.com: Permission denied (publickey).\r\n"
          ],
          "name": "stdout"
        }
      ]
    },
    {
      "cell_type": "code",
      "metadata": {
        "colab": {
          "base_uri": "https://localhost:8080/"
        },
        "id": "WQy4N0yGt-53",
        "outputId": "1d30ea26-8115-4baa-a254-96f8ad5cddac"
      },
      "source": [
        "!git clone git@github.com:asleshapokhrel/412-VAE.git"
      ],
      "execution_count": null,
      "outputs": [
        {
          "output_type": "stream",
          "text": [
            "Cloning into '412-VAE'...\n",
            "remote: Enumerating objects: 91, done.\u001b[K\n",
            "remote: Counting objects: 100% (91/91), done.\u001b[K\n",
            "remote: Compressing objects: 100% (66/66), done.\u001b[K\n",
            "remote: Total 91 (delta 39), reused 58 (delta 19), pack-reused 0\u001b[K\n",
            "Receiving objects: 100% (91/91), 46.19 KiB | 598.00 KiB/s, done.\n",
            "Resolving deltas: 100% (39/39), done.\n"
          ],
          "name": "stdout"
        }
      ]
    },
    {
      "cell_type": "code",
      "metadata": {
        "colab": {
          "base_uri": "https://localhost:8080/"
        },
        "id": "Jd4vAX3rhU8w",
        "outputId": "fcdba32f-aed2-430e-99e6-b5bc20b032b4"
      },
      "source": [
        "!git pull"
      ],
      "execution_count": null,
      "outputs": [
        {
          "output_type": "stream",
          "text": [
            "Host key verification failed.\r\n",
            "fatal: Could not read from remote repository.\n",
            "\n",
            "Please make sure you have the correct access rights\n",
            "and the repository exists.\n"
          ],
          "name": "stdout"
        }
      ]
    },
    {
      "cell_type": "code",
      "metadata": {
        "id": "tkBJ2Dq3hb14",
        "colab": {
          "base_uri": "https://localhost:8080/"
        },
        "outputId": "51bdb571-363d-44ed-f5bc-0d4175bfef56"
      },
      "source": [
        "cd 412"
      ],
      "execution_count": null,
      "outputs": [
        {
          "output_type": "stream",
          "text": [
            "\u001b[0m\u001b[01;34m412-VAE\u001b[0m/                           \u001b[01;34mnmn_iwp.egg-info\u001b[0m/  setup.py\n",
            "Anaconda3-2020.11-Linux-x86_64.sh  README.md          \u001b[01;34msrc\u001b[0m/\n",
            "\u001b[01;34mdata\u001b[0m/                              requirements.txt   TrainVAE.ipynb\n",
            "environment.yml                    \u001b[01;34mscripts\u001b[0m/\n"
          ],
          "name": "stdout"
        }
      ]
    },
    {
      "cell_type": "code",
      "metadata": {
        "colab": {
          "base_uri": "https://localhost:8080/"
        },
        "id": "2PTQal8hRU4k",
        "outputId": "4bdd3e30-c8f8-44d4-c0cb-1ee40daacaac"
      },
      "source": [
        "# !git commit -m \"Inference part\""
      ],
      "execution_count": null,
      "outputs": [
        {
          "output_type": "stream",
          "text": [
            "[main 5be6b5c] Inference part\n",
            " 1 file changed, 1 insertion(+), 717 deletions(-)\n",
            " rewrite CSC420_detectron.ipynb (74%)\n"
          ],
          "name": "stdout"
        }
      ]
    },
    {
      "cell_type": "code",
      "metadata": {
        "colab": {
          "base_uri": "https://localhost:8080/"
        },
        "id": "aOgVEC8jTdfl",
        "outputId": "a9cf475e-0b3d-4661-a198-d085c034fa36"
      },
      "source": [
        "!git pull"
      ],
      "execution_count": null,
      "outputs": [
        {
          "output_type": "stream",
          "text": [
            "Warning: Permanently added the RSA host key for IP address '140.82.113.3' to the list of known hosts.\n",
            "remote: Enumerating objects: 51, done.\u001b[K\n",
            "remote: Counting objects: 100% (48/48), done.\u001b[K\n",
            "remote: Compressing objects: 100% (22/22), done.\u001b[K\n",
            "remote: Total 35 (delta 20), reused 28 (delta 13), pack-reused 0\u001b[K\n",
            "Unpacking objects: 100% (35/35), done.\n",
            "From github.com:asleshapokhrel/412-VAE\n",
            "   129bb28..25f54c0  main       -> origin/main\n",
            "Updating 129bb28..25f54c0\n",
            "Fast-forward\n",
            " scripts/train.py                                 |   9 \u001b[32m+\u001b[m\u001b[31m-\u001b[m\n",
            " scripts/train_beta.py                            |   5 \u001b[32m+\u001b[m\u001b[31m-\u001b[m\n",
            " scripts/train_vanilla.py                         |   6 \u001b[32m+\u001b[m\u001b[31m-\u001b[m\n",
            " src/Data-PreProcessing.ipynb                     | 242 \u001b[31m-----------------------\u001b[m\n",
            " src/Data-PreProcessing.py                        | 128 \u001b[31m------------\u001b[m\n",
            " src/{ => Preprocessing}/Data_PreProcessing.ipynb |   0\n",
            " src/{ => Preprocessing}/Data_PreProcessing.py    |   0\n",
            " src/Preprocessing/preprocessing.py               |  62 \u001b[32m++++++\u001b[m\n",
            " 8 files changed, 76 insertions(+), 376 deletions(-)\n",
            " delete mode 100644 src/Data-PreProcessing.ipynb\n",
            " delete mode 100644 src/Data-PreProcessing.py\n",
            " rename src/{ => Preprocessing}/Data_PreProcessing.ipynb (100%)\n",
            " rename src/{ => Preprocessing}/Data_PreProcessing.py (100%)\n",
            " create mode 100644 src/Preprocessing/preprocessing.py\n"
          ],
          "name": "stdout"
        }
      ]
    },
    {
      "cell_type": "code",
      "metadata": {
        "colab": {
          "base_uri": "https://localhost:8080/"
        },
        "id": "clwZ6z9qn6Q_",
        "outputId": "c4ce1323-d8b9-450d-c6d7-95e57943b79d"
      },
      "source": [
        "!git status"
      ],
      "execution_count": null,
      "outputs": [
        {
          "output_type": "stream",
          "text": [
            "On branch main\n",
            "Your branch is up to date with 'origin/main'.\n",
            "\n",
            "nothing to commit, working tree clean\n"
          ],
          "name": "stdout"
        }
      ]
    }
  ]
}