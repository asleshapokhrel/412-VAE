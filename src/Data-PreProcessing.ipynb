{
  "nbformat": 4,
  "nbformat_minor": 0,
  "metadata": {
    "colab": {
      "name": "CSC412-PreProcessing.ipynb",
      "provenance": [],
      "collapsed_sections": [],
      "authorship_tag": "ABX9TyPx0rDb9pDzDgrRPtCcHDoC"
    },
    "kernelspec": {
      "name": "python3",
      "display_name": "Python 3"
    },
    "language_info": {
      "name": "python"
    }
  },
  "cells": [
    {
      "cell_type": "code",
      "metadata": {
        "colab": {
          "base_uri": "https://localhost:8080/"
        },
        "id": "XL_d4vNgCYrh",
        "outputId": "b26884ae-7aae-432a-eac6-b9bd9427f721"
      },
      "source": [
        "from google.colab import drive\n",
        "import requests\n",
        "import numpy as np\n",
        "import cv2 \n",
        "import matplotlib.pyplot as plt\n",
        "import os\n",
        "\n",
        "drive_name = '/content/drive'\n",
        "drive.mount(drive_name)\n",
        "\n",
        "drive_location = drive_name + '/My Drive/University of Toronto/4th Year/CSC412'\n",
        "data_location = drive_location + '/data/'"
      ],
      "execution_count": 8,
      "outputs": [
        {
          "output_type": "stream",
          "text": [
            "Drive already mounted at /content/drive; to attempt to forcibly remount, call drive.mount(\"/content/drive\", force_remount=True).\n"
          ],
          "name": "stdout"
        }
      ]
    },
    {
      "cell_type": "code",
      "metadata": {
        "id": "rudR8GkX_QuQ"
      },
      "source": [
        "def download_img(object_name):\n",
        "    \"\"\"\n",
        "    Download .npy file for given object_name.\n",
        "    object_name (str) : Name of object drawing to be downoalded. \n",
        "                        E.g., \"airplane\", \"mouse\"\n",
        "    \"\"\"\n",
        "    url = \"https://storage.googleapis.com/quickdraw_dataset/full/numpy_bitmap/{}.npy\".format(object_name)\n",
        "    myfile = requests.get(url)\n",
        "    savename = data_location + '{}.npy'.format(object_name)\n",
        "\n",
        "    if os.path.exists(data_location + '{}.npy'.format(object_name)):\n",
        "        print(\"{}.npy file exists already\".format(object_name))\n",
        "    else:\n",
        "        with open(savename, 'wb') as f:\n",
        "            f.write(myfile.content)\n",
        "            print(\"{}.npy file download completed\".format(object_name))\n",
        "            f.close()\n",
        "\n",
        "\n",
        "def load_data(object_name):\n",
        "    \"\"\"\n",
        "    Return Nx784 numpy array corresponding to N drawings of size 28x28.\n",
        "    object_name (str) : Name of object drawing to be loaded to the memory. \n",
        "                        E.g., \"airplane\", \"mouse\"\n",
        "    \"\"\"\n",
        "    savename = data_location + '{}.npy'.format(object_name)\n",
        "    data = np.load(savename)\n",
        "\n",
        "    return data\n",
        "\n",
        "\n",
        "def display_img(im_arr):\n",
        "    \"\"\"\n",
        "    Plot im_arr.\n",
        "    im_arr (numpy uint8 array): Numpy array of size (784,) to be visualized.\n",
        "    \"\"\"\n",
        "    plt.imshow(im_arr.reshape(28,28), cmap='gray')"
      ],
      "execution_count": 31,
      "outputs": []
    },
    {
      "cell_type": "code",
      "metadata": {
        "colab": {
          "base_uri": "https://localhost:8080/"
        },
        "id": "gnZ_6Wxz_y7y",
        "outputId": "4409ad16-2bb8-4659-caf0-c259995012b3"
      },
      "source": [
        "download_img('mouse')"
      ],
      "execution_count": 16,
      "outputs": [
        {
          "output_type": "stream",
          "text": [
            "mouse.npy file download completed\n"
          ],
          "name": "stdout"
        }
      ]
    },
    {
      "cell_type": "code",
      "metadata": {
        "id": "s2eXo11AHazW"
      },
      "source": [
        "data = load_data('airplane')"
      ],
      "execution_count": 26,
      "outputs": []
    },
    {
      "cell_type": "code",
      "metadata": {
        "colab": {
          "base_uri": "https://localhost:8080/",
          "height": 265
        },
        "id": "iO3n709IC5pG",
        "outputId": "e86b4b99-78b8-49cc-a7e2-083953ef0e71"
      },
      "source": [
        "display_img(data[1])"
      ],
      "execution_count": 32,
      "outputs": [
        {
          "output_type": "display_data",
          "data": {
            "image/png": "[encoded data removed]",
            "text/plain": [
              "<Figure size 432x288 with 1 Axes>"
            ]
          },
          "metadata": {
            "tags": [],
            "needs_background": "light"
          }
        }
      ]
    }
  ]
}