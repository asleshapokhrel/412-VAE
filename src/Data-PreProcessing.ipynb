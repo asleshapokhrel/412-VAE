{
  "nbformat": 4,
  "nbformat_minor": 0,
  "metadata": {
    "colab": {
      "name": "CSC412-PreProcessing.ipynb",
      "provenance": [],
      "collapsed_sections": []
    },
    "kernelspec": {
      "name": "python3",
      "display_name": "Python 3"
    },
    "language_info": {
      "name": "python"
    }
  },
  "cells": [
    {
      "cell_type": "code",
      "metadata": {
        "colab": {
          "base_uri": "https://localhost:8080/"
        },
        "id": "XL_d4vNgCYrh",
        "outputId": "f096fc5c-49a6-45e5-a153-eba49317168c"
      },
      "source": [
        "from google.colab import drive\n",
        "import requests\n",
        "import numpy as np\n",
        "import cv2 \n",
        "import matplotlib.pyplot as plt\n",
        "import os\n",
        "from sklearn.utils import shuffle\n",
        "\n",
        "drive_name = '/content/drive'\n",
        "drive.mount(drive_name)\n",
        "\n",
        "drive_location = drive_name + '/My Drive/University of Toronto/4th Year/CSC412'\n",
        "data_location = drive_location + '/data/'"
      ],
      "execution_count": 31,
      "outputs": [
        {
          "output_type": "stream",
          "text": [
            "Drive already mounted at /content/drive; to attempt to forcibly remount, call drive.mount(\"/content/drive\", force_remount=True).\n"
          ],
          "name": "stdout"
        }
      ]
    },
    {
      "cell_type": "code",
      "metadata": {
        "id": "rudR8GkX_QuQ"
      },
      "source": [
        "def download_img(object_name):\n",
        "    \"\"\"\n",
        "    Download .npy file for given object_name.\n",
        "    object_name (str) : Name of object drawing to be downoalded. \n",
        "                        E.g., \"airplane\", \"mouse\"\n",
        "    \"\"\"\n",
        "    url = \"https://storage.googleapis.com/quickdraw_dataset/full/numpy_bitmap/{}.npy\".format(object_name)\n",
        "    myfile = requests.get(url)\n",
        "    savename = data_location + '{}.npy'.format(object_name)\n",
        "\n",
        "    if os.path.exists(data_location + '{}.npy'.format(object_name)):\n",
        "        print(\"{}.npy file exists already\".format(object_name))\n",
        "    else:\n",
        "        with open(savename, 'wb') as f:\n",
        "            f.write(myfile.content)\n",
        "            print(\"{}.npy file download completed\".format(object_name))\n",
        "            f.close()\n",
        "\n",
        "\n",
        "def download_mult_objects(object_arr):\n",
        "    \"\"\"\n",
        "    Download .npy file for multiple objects.\n",
        "    object_arr (str) : e.g., [\"airplane\", \"mouse\"]\n",
        "    \"\"\"\n",
        "    for obj in object_arr:\n",
        "        download_img(obj)\n",
        "\n",
        "\n",
        "def load_data(object_name):\n",
        "    \"\"\"\n",
        "    Return Nx784 numpy array corresponding to N drawings of size 28x28.\n",
        "    object_name (str) : Name of object drawing to be loaded to the memory. \n",
        "                        E.g., \"airplane\", \"mouse\"\n",
        "    \"\"\"\n",
        "    savename = data_location + '{}.npy'.format(object_name)\n",
        "    # mmap_mode='r+' this does not load everything to memory to avoid\n",
        "    # out of memory issues\n",
        "    data = np.load(savename, mmap_mode='r+')\n",
        "\n",
        "    return data\n",
        "\n",
        "\n",
        "def load_mult_data(object_arr):\n",
        "    \"\"\"\n",
        "    Return len(object_arr)xNx784 numpy array corresponding to N drawings of size 28x28.\n",
        "    object_arr (str) : e.g., [\"airplane\", \"mouse\"]\n",
        "    \"\"\"\n",
        "    data_arr = []\n",
        "    for obj in object_arr:\n",
        "        data = load_data(obj)\n",
        "        data_arr.append(data)\n",
        "    return data_arr\n",
        "\n",
        "\n",
        "def display_img(im_arr, img_category):\n",
        "    \"\"\"\n",
        "    Plot im_arr.\n",
        "    im_arr (numpy uint8 array): Numpy array of size (784,) to be visualized.\n",
        "    img_category (str): name of object in im_arr\n",
        "    \"\"\"\n",
        "    plt.imshow(im_arr.reshape(28,28), cmap='gray')\n",
        "    plt.title(img_category)\n",
        "\n",
        "\n",
        "def create_dataset(data_arr, obj_name_arr, num_samples):\n",
        "    \"\"\"\n",
        "    \"\"\"\n",
        "    _, col_size = (data_arr[0]).shape\n",
        "    # empty array to concatenate data\n",
        "    final_arr = np.array([], dtype=np.uint8).reshape(0, col_size)\n",
        "    label_arr = []\n",
        "\n",
        "    for i in range(len(data_arr)):\n",
        "        # choose num_samples randomly of each object\n",
        "        index = np.random.choice(data[i].shape[0], num_samples, replace=False)\n",
        "        obj_data = data_arr[i][index]\n",
        "        final_arr = np.concatenate((final_arr, obj_data), axis=0)   \n",
        "        # create num_sample labels and concatenate to label_arr\n",
        "        obj_label = [obj_name_arr[i]]*num_samples\n",
        "        label_arr.extend(obj_label)  \n",
        "\n",
        "    return final_arr, np.array(label_arr)\n",
        "\n"
      ],
      "execution_count": 175,
      "outputs": []
    },
    {
      "cell_type": "code",
      "metadata": {
        "id": "Lqj0MYDRw7sE"
      },
      "source": [
        "# add or remove objects here\n",
        "objects = ['mouse', 'airplane']\n",
        "\n",
        "## Download data, running once is enough\n",
        "# download_mult_objects(objects)\n",
        "\n",
        "# load data\n",
        "data = load_mult_data(objects)\n",
        "\n",
        "# get mergedd datasets\n",
        "num_samples = 2\n",
        "train_dataset, train_label = create_dataset(data, objects, num_samples)\n"
      ],
      "execution_count": 173,
      "outputs": []
    },
    {
      "cell_type": "code",
      "metadata": {
        "colab": {
          "base_uri": "https://localhost:8080/",
          "height": 809
        },
        "id": "eHaHgrNYyMJV",
        "outputId": "60d9a062-6c85-4307-fc51-ab97d50a1d2c"
      },
      "source": [
        "# display image\n",
        "num_images = 3\n",
        "\n",
        "for idx in range(num_images):\n",
        "    display_img(train_dataset[idx], train_label[idx])\n",
        "    plt.show()"
      ],
      "execution_count": 181,
      "outputs": [
        {
          "output_type": "display_data",
          "data": {
            "image/png": "[encoded data removed]",
            "text/plain": [
              "<Figure size 432x288 with 1 Axes>"
            ]
          },
          "metadata": {
            "tags": [],
            "needs_background": "light"
          }
        },
        {
          "output_type": "display_data",
          "data": {
            "image/png": "[encoded data removed]",
            "text/plain": [
              "<Figure size 432x288 with 1 Axes>"
            ]
          },
          "metadata": {
            "tags": [],
            "needs_background": "light"
          }
        },
        {
          "output_type": "display_data",
          "data": {
            "image/png": "[encoded data removed]",
            "text/plain": [
              "<Figure size 432x288 with 1 Axes>"
            ]
          },
          "metadata": {
            "tags": [],
            "needs_background": "light"
          }
        }
      ]
    },
    {
      "cell_type": "code",
      "metadata": {
        "id": "D9Ow3ilF1MLr"
      },
      "source": [
        ""
      ],
      "execution_count": null,
      "outputs": []
    }
  ]
}